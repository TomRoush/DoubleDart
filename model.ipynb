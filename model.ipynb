{
 "cells": [
  {
   "cell_type": "code",
   "execution_count": 148,
   "metadata": {
    "collapsed": true
   },
   "outputs": [],
   "source": [
    "import os\n",
    "import gpxpy\n",
    "import gpxpy.gpx\n",
    "import numpy as np\n",
    "import json\n",
    "from glob import glob"
   ]
  },
  {
   "cell_type": "code",
   "execution_count": 149,
   "metadata": {
    "collapsed": true
   },
   "outputs": [],
   "source": [
    "def parse_data():\n",
    "    gpx_files = []\n",
    "    vectors = []\n",
    "    \n",
    "    for file in glob(\"gpx_data/*.gpx\"):\n",
    "        gpx_file = gpxpy.parse(open(file))\n",
    "        gpx_files.append(os.path.basename(file))\n",
    "        \n",
    "        for track in gpx_file.tracks:\n",
    "            vector = [(point.latitude, point.longitude) for segment in track.segments for point in segment.points]\n",
    "            vectors.append(vector)\n",
    "    return vectors, gpx_files"
   ]
  },
  {
   "cell_type": "code",
   "execution_count": 150,
   "metadata": {
    "collapsed": true
   },
   "outputs": [],
   "source": [
    "def parse_request_data(json_data):\n",
    "    paths = []\n",
    "    for json_object in json.loads(json_data):\n",
    "        with open(\"gpx_data/{}.gpx\".format(json_object['user']), 'w') as f:\n",
    "            f.write(json_object['gpx'])\n",
    "            \n",
    "        gpx_file = gpxpy.parse(json_object['gpx'])\n",
    "        \n",
    "        for track in gpx_file.tracks:\n",
    "            path = [(point.latitude, point.longitude) for segment in track.segments for point in segment.points]\n",
    "            paths.append(path)\n",
    "            \n",
    "        break # request should only have 1 person\n",
    "    \n",
    "    return paths, json_object['user']"
   ]
  },
  {
   "cell_type": "code",
   "execution_count": 151,
   "metadata": {
    "collapsed": true
   },
   "outputs": [],
   "source": [
    "class BoundingBox(object):\n",
    "    \"\"\"\n",
    "    A 2D bounding box\n",
    "    \"\"\"\n",
    "    def __init__(self, points):\n",
    "        if len(points) == 0:\n",
    "            raise ValueError(\"Can't compute bounding box of empty list\")\n",
    "        self.minx, self.miny = float(\"inf\"), float(\"inf\")\n",
    "        self.maxx, self.maxy = float(\"-inf\"), float(\"-inf\")\n",
    "        for x, y in points:\n",
    "            # Set min coords\n",
    "            if x < self.minx:\n",
    "                self.minx = x\n",
    "            if y < self.miny:\n",
    "                self.miny = y\n",
    "            # Set max coords\n",
    "            if x > self.maxx:\n",
    "                self.maxx = x\n",
    "            elif y > self.maxy:\n",
    "                self.maxy = y\n",
    "        self.midx = (self.minx + self.maxx) / 2\n",
    "        self.midy = (self.miny + self.maxy) / 2\n",
    "    @property\n",
    "    def width(self):\n",
    "        return self.maxx - self.minx\n",
    "    @property\n",
    "    def height(self):\n",
    "        return self.maxy - self.miny\n",
    "\n",
    "    def mid(self):\n",
    "        return [self.midx, self.midy]\n",
    "    def __repr__(self):\n",
    "        return \"BoundingBox({}, {}, {}, {})\".format(\n",
    "            self.minx, self.miny, self.maxx,self.maxy)"
   ]
  },
  {
   "cell_type": "code",
   "execution_count": 152,
   "metadata": {
    "collapsed": true
   },
   "outputs": [],
   "source": [
    "def score(paths):\n",
    "    score_matrix = np.array([np.array([np.inf for _ in range(len(paths))], dtype=\"float64\") for _ in range(len(paths))])\n",
    "    for i in range (len(paths)):\n",
    "        for j in range (i+1, len(paths)):\n",
    "                b1 = BoundingBox(paths[i])\n",
    "                b2 = BoundingBox(paths[j])\n",
    "                m1 = b1.mid()\n",
    "                m2 = b2.mid()\n",
    "                score = ((m2[0] - m1[0]) **2 + (m2[1] - m1[0]) **2) ** 1/2\n",
    "                score_matrix[i][j] = score\n",
    "                score_matrix[j][i] = score\n",
    "\n",
    "    score_matrix=np.array(score_matrix).reshape(len(paths), len(paths))\n",
    "    return score_matrix            "
   ]
  },
  {
   "cell_type": "code",
   "execution_count": 153,
   "metadata": {
    "collapsed": true
   },
   "outputs": [],
   "source": [
    "# Main entry point\n",
    "def handle_request(json_data):\n",
    "    user_path, user = parse_request_data(json)\n",
    "    paths, gpx_files = parse_data()\n",
    "    \n",
    "    score_matrix= score(paths)\n",
    "    # Get the row INDICES of the score matrix that corresponds to the user requested, and pull the top 5 scores\n",
    "    top5 = score_matrix[gpx_files.index(\"%s.gpx\" % user)].argsort()[:5]\n",
    "    \n",
    "    # results: filenames, a.k.a. the users which are selected as the top 5 matches\n",
    "    results = [gpx_files[top] for top in tops]\n",
    "   \n",
    "    # return a JSON object as response\n",
    "    j = {\n",
    "        0: {\n",
    "            'name': gpx_files[top5[0]],\n",
    "            'coords': paths[top5[0]]\n",
    "        },\n",
    "        1: {\n",
    "            'name': gpx_files[top5[1]],\n",
    "            'coords': paths[top5[1]]\n",
    "        },\n",
    "        2: {\n",
    "            'name': gpx_files[top5[2]],\n",
    "            'coords': paths[top5[2]]\n",
    "        },\n",
    "        3: {\n",
    "            'name': gpx_files[top5[3]],\n",
    "            'coords': paths[top5[3]]\n",
    "        }, \n",
    "        4: {\n",
    "            'name': gpx_files[top5[4]],\n",
    "            'coords': paths[top5[4]]\n",
    "        }, \n",
    "        # Return the user parsed request to the client as well, for comparison\n",
    "        5: {\n",
    "            'name': user,\n",
    "            'coords': user_path\n",
    "        }\n",
    "    }\n",
    "    return json.dumps(j)"
   ]
  }
 ],
 "metadata": {
  "kernelspec": {
   "display_name": "Python 3",
   "language": "python",
   "name": "python3"
  },
  "language_info": {
   "codemirror_mode": {
    "name": "ipython",
    "version": 3
   },
   "file_extension": ".py",
   "mimetype": "text/x-python",
   "name": "python",
   "nbconvert_exporter": "python",
   "pygments_lexer": "ipython3",
   "version": "3.6.1"
  }
 },
 "nbformat": 4,
 "nbformat_minor": 2
}
