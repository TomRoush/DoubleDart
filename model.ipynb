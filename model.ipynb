{
 "cells": [
  {
   "cell_type": "code",
   "execution_count": 1,
   "metadata": {
    "collapsed": true
   },
   "outputs": [],
   "source": [
    "import os\n",
    "import gpxpy\n",
    "import gpxpy.gpx\n",
    "import sklearn\n",
    "import numpy as np\n",
    "from scipy import stats\n",
    "from glob import glob"
   ]
  },
  {
   "cell_type": "code",
   "execution_count": 2,
   "metadata": {
    "collapsed": true
   },
   "outputs": [],
   "source": [
    "def parse_data():\n",
    "    gpx_files = []\n",
    "    vectors = []\n",
    "    \n",
    "    for file in glob(\"gpx_data/*.gpx\"):\n",
    "        gpx_file = gpxpy.parse(open(file))\n",
    "        gpx_files.append(os.path.basename(file))\n",
    "        \n",
    "        for track in gpx_file.tracks:\n",
    "            vector = [(point.latitude, point.longitude) for segment in track.segments for point in segment.points]\n",
    "            vectors.append(vector)\n",
    "    return vectors, gpx_files"
   ]
  },
  {
   "cell_type": "code",
   "execution_count": 3,
   "metadata": {
    "collapsed": true
   },
   "outputs": [],
   "source": [
    "paths, file_names = parse_data()"
   ]
  },
  {
   "cell_type": "code",
   "execution_count": 4,
   "metadata": {
    "collapsed": true
   },
   "outputs": [],
   "source": [
    "class BoundingBox(object):\n",
    "    \"\"\"\n",
    "    A 2D bounding box\n",
    "    \"\"\"\n",
    "    def __init__(self, points):\n",
    "        if len(points) == 0:\n",
    "            raise ValueError(\"Can't compute bounding box of empty list\")\n",
    "        self.minx, self.miny = float(\"inf\"), float(\"inf\")\n",
    "        self.maxx, self.maxy = float(\"-inf\"), float(\"-inf\")\n",
    "        for x, y in points:\n",
    "            # Set min coords\n",
    "            if x < self.minx:\n",
    "                self.minx = x\n",
    "            if y < self.miny:\n",
    "                self.miny = y\n",
    "            # Set max coords\n",
    "            if x > self.maxx:\n",
    "                self.maxx = x\n",
    "            elif y > self.maxy:\n",
    "                self.maxy = y\n",
    "        self.midx = (self.minx + self.maxx) / 2\n",
    "        self.midy = (self.miny + self.maxy) / 2\n",
    "    @property\n",
    "    def width(self):\n",
    "        return self.maxx - self.minx\n",
    "    @property\n",
    "    def height(self):\n",
    "        return self.maxy - self.miny\n",
    "\n",
    "    def mid(self):\n",
    "        return [self.midx, self.midy]\n",
    "    def __repr__(self):\n",
    "        return \"BoundingBox({}, {}, {}, {})\".format(\n",
    "            self.minx, self.miny, self.maxx,self.maxy)"
   ]
  },
  {
   "cell_type": "code",
   "execution_count": 5,
   "metadata": {},
   "outputs": [
    {
     "data": {
      "text/plain": [
       "array([[           inf,  8235.07535657,  8235.08049001, ...,\n",
       "         8235.51042164,  8235.41898009,  8235.2114001 ],\n",
       "       [ 8235.07535657,            inf,  8235.07169899, ...,\n",
       "         8235.50163039,  8235.41018887,  8235.20260876],\n",
       "       [ 8235.08049001,  8235.07169899,            inf, ...,\n",
       "         8235.5096516 ,  8235.41821006,  8235.21063005],\n",
       "       ..., \n",
       "       [ 8235.51042164,  8235.50163039,  8235.5096516 , ...,\n",
       "                   inf,  8235.41865925,  8235.21107925],\n",
       "       [ 8235.41898009,  8235.41018887,  8235.41821006, ...,\n",
       "         8235.41865925,            inf,  8235.16038478],\n",
       "       [ 8235.2114001 ,  8235.20260876,  8235.21063005, ...,\n",
       "         8235.21107925,  8235.16038478,            inf]])"
      ]
     },
     "execution_count": 5,
     "metadata": {},
     "output_type": "execute_result"
    }
   ],
   "source": [
    "score_matrix = np.array([np.array([np.inf for _ in range(len(paths))], dtype=\"float64\") for _ in range(len(paths))])\n",
    "for i in range (len(paths)):\n",
    "    for j in range (i+1, len(paths)):\n",
    "            b1 = BoundingBox(paths[i])\n",
    "            b2 = BoundingBox(paths[j])\n",
    "            m1 = b1.mid()\n",
    "            m2 = b2.mid()\n",
    "            score = ((m2[0] - m1[0]) **2 + (m2[1] - m1[0]) **2) ** 1/2\n",
    "            score_matrix[i][j] = score\n",
    "            score_matrix[j][i] = score\n",
    "\n",
    "score_matrix=np.array(score_matrix).reshape(len(paths), len(paths))\n",
    "score_matrix\n",
    "\n",
    "\n",
    "            \n",
    "            "
   ]
  },
  {
   "cell_type": "code",
   "execution_count": 7,
   "metadata": {},
   "outputs": [
    {
     "data": {
      "text/plain": [
       "['20170826_123054.gpx',\n",
       " '20170904_110515.gpx',\n",
       " '20161102_104004.gpx',\n",
       " '20160901_162644.gpx',\n",
       " '20150910_185750.gpx']"
      ]
     },
     "execution_count": 7,
     "metadata": {},
     "output_type": "execute_result"
    }
   ],
   "source": [
    "# Top recommendations for User 0\n",
    "tops = score_matrix[0].argsort()[:5]\n",
    "results = []\n",
    "for top in tops:\n",
    "    results.append(file_names[top]) \n",
    "    \n",
    "results"
   ]
  },
  {
   "cell_type": "code",
   "execution_count": null,
   "metadata": {
    "collapsed": true
   },
   "outputs": [],
   "source": []
  },
  {
   "cell_type": "code",
   "execution_count": null,
   "metadata": {
    "collapsed": true
   },
   "outputs": [],
   "source": []
  }
 ],
 "metadata": {
  "kernelspec": {
   "display_name": "Python 3",
   "language": "python",
   "name": "python3"
  },
  "language_info": {
   "codemirror_mode": {
    "name": "ipython",
    "version": 3
   },
   "file_extension": ".py",
   "mimetype": "text/x-python",
   "name": "python",
   "nbconvert_exporter": "python",
   "pygments_lexer": "ipython3",
   "version": "3.6.1"
  }
 },
 "nbformat": 4,
 "nbformat_minor": 2
}
